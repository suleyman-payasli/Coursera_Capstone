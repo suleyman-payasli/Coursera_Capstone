{
 "cells": [
  {
   "cell_type": "markdown",
   "metadata": {},
   "source": [
    "<div>\n",
    "<h1>Capstone Project - The Battle of Neighborhoods (Week 1)</h1>\n",
    "<h3>Best Location for a Restaurant in Istanbul, Turkey</h3>\n",
    "<h3><em>IBM Data Science Professional Certificate - Suleyman PAYASLI</em></h3>\n",
    "</div>"
   ]
  },
  {
   "cell_type": "markdown",
   "metadata": {},
   "source": [
    "## Data"
   ]
  },
  {
   "cell_type": "markdown",
   "metadata": {},
   "source": [
    "Following data sources will be needed to extract or generate the required information:\n",
    "\n",
    "**Districts of Istanbul:** the list of districts of Istanbul can be obtained from a Wikipedia page. We have to scrape the data.\n",
    "Here, you will find a HTML table which shows the 39 districts of Istanbul:\n",
    "\n",
    "<a href=\"https://en.wikipedia.org/wiki/List_of_districts_of_Istanbul\" target=\"_blank\">List of districts of Istanbul</a>"
   ]
  },
  {
   "cell_type": "markdown",
   "metadata": {},
   "source": [
    "**Location Data:** The location data of districts will be obtained from Geocoder API. This API provides geographic coordinates as latitude and longitude, which we can use to place markers on a map.\n",
    "\n",
    "**Foursquare API:** We will look for the most common venues list, number of restaurants, their type, and location in every neighborhood will be obtained from Foursquare API. This allows us to make calls to the API to explore a region depending on the latitude and longitude, categories, radius and limit when calling the API.\n",
    "\n",
    "Then we will combine all these data sources and we will provide the distribution and density of the restaurant categories. After that we will try to classify the districts into clusters in order to see if we are getting some patterns. Finally we will try to find out some interesting insights which might be useful to investors, tourists or to people with business interests. So we will get a glimpse of the Restaurants in Istanbul and hopefully visualize the results on map."
   ]
  },
  {
   "cell_type": "markdown",
   "metadata": {},
   "source": [
    "***Thank you for reading.***"
   ]
  }
 ],
 "metadata": {
  "kernelspec": {
   "display_name": "Python 3",
   "language": "python",
   "name": "python3"
  },
  "language_info": {
   "codemirror_mode": {
    "name": "ipython",
    "version": 3
   },
   "file_extension": ".py",
   "mimetype": "text/x-python",
   "name": "python",
   "nbconvert_exporter": "python",
   "pygments_lexer": "ipython3",
   "version": "3.8.3"
  }
 },
 "nbformat": 4,
 "nbformat_minor": 4
}
