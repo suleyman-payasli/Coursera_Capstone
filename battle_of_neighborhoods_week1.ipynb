{
 "cells": [
  {
   "cell_type": "markdown",
   "metadata": {},
   "source": [
    "<div>\n",
    "<h1>Capstone Project - The Battle of Neighborhoods (Week 1)</h1>\n",
    "<h3>Best Location for a Restaurant in Istanbul, Turkey</h3>\n",
    "<h3><em>IBM Data Science Professional Certificate - Suleyman PAYASLI</em></h3>\n",
    "</div>\n",
    "<div >\n",
    "<h2>Table of contents</h2>\n",
    "<ul>\n",
    "<li><a href=\"#introduction\">Introduction: Business Problem</a></li>\n",
    "<li><a href=\"#data\">Data</a></li>\n",
    "<li><a href=\"#methodology\">Methodology</a></li>\n",
    "<li><a href=\"#analysis\">Analysis</a></li>\n",
    "<li><a href=\"#results\">Results and Discussion</a></li>\n",
    "<li><a href=\"#conclusion\">Conclusion</a></li>\n",
    "</ul>\n",
    "</div>"
   ]
  },
  {
   "cell_type": "markdown",
   "metadata": {},
   "source": [
    "<h2>1. Introduction: Business Problem</h2><a name=\"introduction\"></a>"
   ]
  },
  {
   "cell_type": "markdown",
   "metadata": {},
   "source": [
    "### 1.1 Background\n",
    "Istanbul is the largest city in Turkey and the country's economic, cultural and historic center. The city which is the heart of the country, straddles the Bosphorus strait, and lies in both Europe and Asia, with a population of over 15 million residents, comprising 19% of the population of Turkey. Istanbul had the eleventh-largest economy among the world's urban areas in 2018, and is responsible for 30 percent of Turkey's industrial output. The city houses international ports that link Europe and Asia. \n",
    "Istanbul is divided into 39 districts in total, more than any other province in Turkey. The city has numerous shopping centers, from the historic to the modern and is also well known for its historic seafood restaurants. Istanbul offers wide range of quality restaurants in its every districts and neighborhoods. Restaurants serves up world cuisine as Turkish, Italian, Mediterranean, French, Japan, Chinese and Indian foods.\n"
   ]
  },
  {
   "cell_type": "markdown",
   "metadata": {},
   "source": [
    "### 1.2 Business Problem\n",
    "In this project we will try to find an optimal location for a restaurant. In particular, this report will be targeted to stakeholders interested in opening new restaurant business in Istanbul, Turkey. \n",
    "\n",
    "Since there are lots of restaurants in Istanbul we will try to detect locations that are not already crowded with restaurants. We are also particularly interested in areas with no existing Turkish restaurants in vicinity. We would also prefer locations as close to the city center as possible, assuming that first two conditions are met. We will use our data science powers to generate a few most promissing neighborhoods based on this criteria. Advantages of each area will then be clearly expressed so that best possible final location can be chosen by stakeholders. Objective of this study is to locate and recommend to those who wants to open a new restaurant in Istanbul which neighborhood will be best choice to start.\n",
    "\n",
    "Consequently, the goal we want to reach with this project is to help a possible stakeholder to understand better the best possible boroughs (districts) for opening a restaurant with useful insights."
   ]
  },
  {
   "cell_type": "markdown",
   "metadata": {},
   "source": [
    "### 1.3 Target Audience\n",
    "Entrepreneurs who are passionate about opening a restaurant in Istanbul would be very interested in this project. The project is also for business owners and stakeholders who want to expand their businesses and wonder how data science could be applied to the questions at hand. Another target audience would be foreign tourists and city visitors who wants to know where to find seafood or Turkish cuisine restaurants."
   ]
  },
  {
   "cell_type": "markdown",
   "metadata": {},
   "source": [
    "<h2>2. Data</h2><a name=\"data\"></a>"
   ]
  },
  {
   "cell_type": "markdown",
   "metadata": {},
   "source": [
    "Following data sources will be needed to extract or generate the required information:\n",
    "\n",
    "**Districts of Istanbul:** the list of districts of Istanbul can be obtained from a Wikipedia page. We have to scrape the data.\n",
    "Here, you will find a HTML table which shows the 39 districts of Istanbul:\n",
    "\n",
    "[List of districts of Istanbul](https://en.wikipedia.org/wiki/List_of_districts_of_Istanbul)"
   ]
  },
  {
   "cell_type": "markdown",
   "metadata": {},
   "source": [
    "**Location Data:** The location data of districts will be obtained from Geocoder API. This API provides geographic coordinates as latitude and longitude, which we can use to place markers on a map.\n",
    "\n",
    "**Foursquare API:** We will look for the most common venues list, number of restaurants, their type, and location in every neighborhood will be obtained from Foursquare API. This allows us to make calls to the API to explore a region depending on the latitude and longitude, categories, radius and limit when calling the API.\n",
    "\n",
    "Then we will combine all these data sources and we will provide the distribution and density of the restaurant categories. After that we will try to classify the districts into clusters in order to see if we are getting some patterns. Finally we will try to find out some interesting insights which might be useful to investors, tourists or to people with business interests. So we will get a glimpse of the Restaurants in Istanbul and hopefully visualize the results on map."
   ]
  },
  {
   "cell_type": "markdown",
   "metadata": {},
   "source": [
    "***Thank you for reading.***"
   ]
  }
 ],
 "metadata": {
  "kernelspec": {
   "display_name": "Python 3",
   "language": "python",
   "name": "python3"
  },
  "language_info": {
   "codemirror_mode": {
    "name": "ipython",
    "version": 3
   },
   "file_extension": ".py",
   "mimetype": "text/x-python",
   "name": "python",
   "nbconvert_exporter": "python",
   "pygments_lexer": "ipython3",
   "version": "3.8.3"
  }
 },
 "nbformat": 4,
 "nbformat_minor": 4
}
